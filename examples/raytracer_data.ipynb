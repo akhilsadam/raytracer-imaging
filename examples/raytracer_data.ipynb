{
 "cells": [
  {
   "cell_type": "markdown",
   "metadata": {
    "tags": []
   },
   "source": [
    "# raytracer-imaging\n",
    "For PET image reconstruction"
   ]
  },
  {
   "cell_type": "code",
   "execution_count": 7,
   "metadata": {},
   "outputs": [],
   "source": [
    "import matplotlib.pyplot as plt\n",
    "from mpl_toolkits.mplot3d.axes3d import Axes3D\n",
    "import math\n",
    "import numpy as np\n",
    "from numba import cuda,types, from_dtype\n",
    "import raytracer.cudaOptions\n",
    "from raytracer.rotation.quaternion import *\n",
    "from raytracer.raytracer.voxel import *\n",
    "from raytracer.raytracer.raytrace import *"
   ]
  },
  {
   "cell_type": "code",
   "execution_count": 8,
   "metadata": {},
   "outputs": [],
   "source": [
    "data_rays = 0.1*np.loadtxt(rayOptions.data_directory).T # x,y,z [mm,ns]"
   ]
  },
  {
   "cell_type": "code",
   "execution_count": 9,
   "metadata": {},
   "outputs": [
    {
     "data": {
      "text/plain": [
       "array([ 1.25919873e+01,  3.83040441e+01,  6.31215088e+01, -1.09195679e-03,\n",
       "       -1.19435828e+01, -3.80859543e+01,  3.92091003e+01, -1.19018558e-03])"
      ]
     },
     "execution_count": 9,
     "metadata": {},
     "output_type": "execute_result"
    }
   ],
   "source": [
    "data_rays[0,:]"
   ]
  },
  {
   "cell_type": "code",
   "execution_count": 13,
   "metadata": {
    "tags": []
   },
   "outputs": [],
   "source": [
    "voxel_size = np.array([10,10,100]) #odd so we have center point\n",
    "raytracerA = raytracer(voxel_size,method=\"ART\")"
   ]
  },
  {
   "cell_type": "code",
   "execution_count": 18,
   "metadata": {},
   "outputs": [
    {
     "name": "stderr",
     "output_type": "stream",
     "text": [
      "100%|███████████████████████████████████████████████████████████████████████████████| 800/800 [00:05<00:00, 139.75it/s]\n"
     ]
    },
    {
     "data": {
      "image/png": "[encoded data removed]",
      "text/plain": [
       "<Figure size 432x288 with 1 Axes>"
      ]
     },
     "metadata": {
      "needs_background": "light"
     },
     "output_type": "display_data"
    }
   ],
   "source": [
    "#Reconstruction:\n",
    "projection_error = raytracerA.reconstruct(data_rays[0:100],iterations=8)"
   ]
  },
  {
   "cell_type": "code",
   "execution_count": 21,
   "metadata": {},
   "outputs": [
    {
     "name": "stdout",
     "output_type": "stream",
     "text": [
      "[ 0.70710678  0.         -0.70710678  0.        ]\n"
     ]
    },
    {
     "data": {
      "text/plain": [
       "(array([0, 0, 0, ..., 0, 0, 0]),\n",
       " array([[0, 0, 0, ..., 0, 0, 0],\n",
       "        [0, 0, 0, ..., 0, 0, 0],\n",
       "        [0, 0, 0, ..., 0, 0, 0],\n",
       "        ...,\n",
       "        [0, 0, 0, ..., 0, 0, 0],\n",
       "        [0, 0, 0, ..., 0, 0, 0],\n",
       "        [0, 0, 0, ..., 0, 0, 0]]),\n",
       " array([[0., 0., 0., ..., 0., 0., 0.],\n",
       "        [0., 0., 0., ..., 0., 0., 0.],\n",
       "        [0., 0., 0., ..., 0., 0., 0.],\n",
       "        ...,\n",
       "        [0., 0., 0., ..., 0., 0., 0.],\n",
       "        [0., 0., 0., ..., 0., 0., 0.],\n",
       "        [0., 0., 0., ..., 0., 0., 0.]]),\n",
       " array([0., 0., 0., ..., 0., 0., 0.]))"
      ]
     },
     "execution_count": 21,
     "metadata": {},
     "output_type": "execute_result"
    },
    {
     "data": {
      "image/png": "[encoded data removed]",
      "text/plain": [
       "<Figure size 864x864 with 2 Axes>"
      ]
     },
     "metadata": {
      "needs_background": "light"
     },
     "output_type": "display_data"
    }
   ],
   "source": [
    "# rayNHit,rayHits,rayWeights = raytracerA.norm_raytrace(0.0*np.pi/180.0,90.0*np.pi/180.0)\n",
    "# projection = raytracerA.rayproject(rayNHit,rayHits)\n",
    "raytracerA.make_projection(phi=0.0*np.pi/180.0,alpha=90.0*np.pi/180.0)"
   ]
  },
  {
   "cell_type": "code",
   "execution_count": null,
   "metadata": {},
   "outputs": [],
   "source": [
    "print(rayNHit)\n",
    "print(\"---\")\n",
    "print(nvoxels,camera_nrays)\n",
    "print(rayHits.shape)\n",
    "print(\"---\")\n",
    "count = 0\n",
    "# for r in range(100):\n",
    "#     if rayNHit[r] > 0:\n",
    "#         print(rayHits[r,0:rayNHit[r]])\n",
    "# print(\"---\")\n",
    "# for r in range(100):\n",
    "#     if rayNHit[r] > 0:\n",
    "#         print(rayWeights[r,0:rayNHit[r]])\n",
    "# print(\"---\")\n",
    "print(np.sum(rayNHit > 0))"
   ]
  },
  {
   "cell_type": "code",
   "execution_count": 16,
   "metadata": {
    "scrolled": true,
    "tags": []
   },
   "outputs": [
    {
     "name": "stdout",
     "output_type": "stream",
     "text": [
      "[[  5.65491516 -24.54622352 -35.22080132]\n",
      " [  5.05089239 -24.76606983 -34.45475688]\n",
      " [  4.44686962 -24.98591614 -33.68871243]\n",
      " ...\n",
      " [ -4.22067301  24.0040672   32.27988038]\n",
      " [ -4.82469578  23.78422089  33.04592482]\n",
      " [ -5.42871856  23.56437457  33.81196927]]\n"
     ]
    },
    {
     "name": "stderr",
     "output_type": "stream",
     "text": [
      "C:\\Users\\sadam\\AppData\\Roaming\\Python\\Python38\\site-packages\\numba\\cuda\\cudadrv\\devicearray.py:790: NumbaPerformanceWarning: \u001b[1mHost array used in CUDA kernel will incur copy overhead to/from device.\u001b[0m\n",
      "  warn(NumbaPerformanceWarning(msg))\n"
     ]
    }
   ],
   "source": [
    "quaternion.rotate(verts,20.*np.pi/180.0,40.*np.pi/180.0)\n",
    "print(verts)"
   ]
  },
  {
   "cell_type": "code",
   "execution_count": 17,
   "metadata": {},
   "outputs": [
    {
     "ename": "ValueError",
     "evalue": "Argument filled must be 3-dimensional",
     "output_type": "error",
     "traceback": [
      "\u001b[1;31m---------------------------------------------------------------------------\u001b[0m",
      "\u001b[1;31mValueError\u001b[0m                                Traceback (most recent call last)",
      "\u001b[1;32m<ipython-input-17-106502a1d032>\u001b[0m in \u001b[0;36m<module>\u001b[1;34m\u001b[0m\n\u001b[0;32m      5\u001b[0m \u001b[1;31m# and plot everything\u001b[0m\u001b[1;33m\u001b[0m\u001b[1;33m\u001b[0m\u001b[1;33m\u001b[0m\u001b[0m\n\u001b[0;32m      6\u001b[0m \u001b[0max\u001b[0m \u001b[1;33m=\u001b[0m \u001b[0mplt\u001b[0m\u001b[1;33m.\u001b[0m\u001b[0mfigure\u001b[0m\u001b[1;33m(\u001b[0m\u001b[1;33m)\u001b[0m\u001b[1;33m.\u001b[0m\u001b[0madd_subplot\u001b[0m\u001b[1;33m(\u001b[0m\u001b[0mprojection\u001b[0m\u001b[1;33m=\u001b[0m\u001b[1;34m'3d'\u001b[0m\u001b[1;33m)\u001b[0m\u001b[1;33m\u001b[0m\u001b[1;33m\u001b[0m\u001b[0m\n\u001b[1;32m----> 7\u001b[1;33m \u001b[0max\u001b[0m\u001b[1;33m.\u001b[0m\u001b[0mvoxels\u001b[0m\u001b[1;33m(\u001b[0m\u001b[0mverts\u001b[0m\u001b[1;33m,\u001b[0m \u001b[0mfacecolors\u001b[0m\u001b[1;33m=\u001b[0m\u001b[0mcolors\u001b[0m\u001b[1;33m,\u001b[0m \u001b[0medgecolor\u001b[0m\u001b[1;33m=\u001b[0m\u001b[1;34m'k'\u001b[0m\u001b[1;33m)\u001b[0m\u001b[1;33m\u001b[0m\u001b[1;33m\u001b[0m\u001b[0m\n\u001b[0m\u001b[0;32m      8\u001b[0m \u001b[0mplt\u001b[0m\u001b[1;33m.\u001b[0m\u001b[0mshow\u001b[0m\u001b[1;33m(\u001b[0m\u001b[1;33m)\u001b[0m\u001b[1;33m\u001b[0m\u001b[1;33m\u001b[0m\u001b[0m\n",
      "\u001b[1;32mC:\\Program Files\\Python3.8\\lib\\site-packages\\mpl_toolkits\\mplot3d\\axes3d.py\u001b[0m in \u001b[0;36mvoxels\u001b[1;34m(self, facecolors, edgecolors, shade, lightsource, *args, **kwargs)\u001b[0m\n\u001b[0;32m   2800\u001b[0m         \u001b[1;31m# check dimensions\u001b[0m\u001b[1;33m\u001b[0m\u001b[1;33m\u001b[0m\u001b[1;33m\u001b[0m\u001b[0m\n\u001b[0;32m   2801\u001b[0m         \u001b[1;32mif\u001b[0m \u001b[0mfilled\u001b[0m\u001b[1;33m.\u001b[0m\u001b[0mndim\u001b[0m \u001b[1;33m!=\u001b[0m \u001b[1;36m3\u001b[0m\u001b[1;33m:\u001b[0m\u001b[1;33m\u001b[0m\u001b[1;33m\u001b[0m\u001b[0m\n\u001b[1;32m-> 2802\u001b[1;33m             \u001b[1;32mraise\u001b[0m \u001b[0mValueError\u001b[0m\u001b[1;33m(\u001b[0m\u001b[1;34m\"Argument filled must be 3-dimensional\"\u001b[0m\u001b[1;33m)\u001b[0m\u001b[1;33m\u001b[0m\u001b[1;33m\u001b[0m\u001b[0m\n\u001b[0m\u001b[0;32m   2803\u001b[0m         \u001b[0msize\u001b[0m \u001b[1;33m=\u001b[0m \u001b[0mnp\u001b[0m\u001b[1;33m.\u001b[0m\u001b[0marray\u001b[0m\u001b[1;33m(\u001b[0m\u001b[0mfilled\u001b[0m\u001b[1;33m.\u001b[0m\u001b[0mshape\u001b[0m\u001b[1;33m,\u001b[0m \u001b[0mdtype\u001b[0m\u001b[1;33m=\u001b[0m\u001b[0mnp\u001b[0m\u001b[1;33m.\u001b[0m\u001b[0mintp\u001b[0m\u001b[1;33m)\u001b[0m\u001b[1;33m\u001b[0m\u001b[1;33m\u001b[0m\u001b[0m\n\u001b[0;32m   2804\u001b[0m \u001b[1;33m\u001b[0m\u001b[0m\n",
      "\u001b[1;31mValueError\u001b[0m: Argument filled must be 3-dimensional"
     ]
    },
    {
     "data": {
      "image/png": "[encoded data removed]",
      "text/plain": [
       "<Figure size 432x288 with 1 Axes>"
      ]
     },
     "metadata": {
      "needs_background": "light"
     },
     "output_type": "display_data"
    }
   ],
   "source": [
    "# set the colors of each object\n",
    "colors = np.empty(verts.shape, dtype=object)\n",
    "colors = 'red'\n",
    "\n",
    "# and plot everything\n",
    "ax = plt.figure().add_subplot(projection='3d')\n",
    "ax.voxels(verts, facecolors=colors, edgecolor='k')\n",
    "plt.show()"
   ]
  },
  {
   "cell_type": "code",
   "execution_count": null,
   "metadata": {},
   "outputs": [],
   "source": [
    "ax = plt.figure().add_subplot()\n",
    "ax.scatter(verts[:,1],verts[:,2],c=voxels.flatten(),cmap='inferno',s=2,alpha=0.5) #project onto x\n",
    "plt.show()"
   ]
  },
  {
   "cell_type": "code",
   "execution_count": null,
   "metadata": {},
   "outputs": [],
   "source": [
    "ax = plt.figure().add_subplot()\n",
    "ax.scatter(verts[:,1].astype(int),verts[:,2].astype(int),c=voxels.flatten(),cmap='inferno',s=6,alpha=0.5) #project onto x\n",
    "plt.show()"
   ]
  },
  {
   "cell_type": "code",
   "execution_count": 52,
   "metadata": {},
   "outputs": [],
   "source": [
    "H, xedges, yedges = np.histogram2d(verts[:,1], verts[:,2], bins=camera_size,range=camera_range)"
   ]
  },
  {
   "cell_type": "code",
   "execution_count": 53,
   "metadata": {},
   "outputs": [
    {
     "data": {
      "text/plain": [
       "<matplotlib.image.AxesImage at 0x20aaad1f310>"
      ]
     },
     "execution_count": 53,
     "metadata": {},
     "output_type": "execute_result"
    },
    {
     "data": {
      "image/png": "[encoded data removed]",
      "text/plain": [
       "<Figure size 432x288 with 1 Axes>"
      ]
     },
     "metadata": {
      "needs_background": "light"
     },
     "output_type": "display_data"
    }
   ],
   "source": [
    "plt.imshow(H.T,cmap='binary',extent=np.array(camera_range).flatten())"
   ]
  },
  {
   "cell_type": "code",
   "execution_count": 652,
   "metadata": {},
   "outputs": [
    {
     "data": {
      "text/plain": [
       "array([-44.   , -43.875, -43.75 , -43.625, -43.5  , -43.375, -43.25 ,\n",
       "       -43.125, -43.   , -42.875, -42.75 , -42.625, -42.5  , -42.375,\n",
       "       -42.25 , -42.125, -42.   , -41.875, -41.75 , -41.625, -41.5  ,\n",
       "       -41.375, -41.25 , -41.125, -41.   , -40.875, -40.75 , -40.625,\n",
       "       -40.5  , -40.375, -40.25 , -40.125, -40.   , -39.875, -39.75 ,\n",
       "       -39.625, -39.5  , -39.375, -39.25 , -39.125, -39.   , -38.875,\n",
       "       -38.75 , -38.625, -38.5  , -38.375, -38.25 , -38.125, -38.   ,\n",
       "       -37.875, -37.75 , -37.625, -37.5  , -37.375, -37.25 , -37.125,\n",
       "       -37.   , -36.875, -36.75 , -36.625, -36.5  , -36.375, -36.25 ,\n",
       "       -36.125, -36.   , -35.875, -35.75 , -35.625, -35.5  , -35.375,\n",
       "       -35.25 , -35.125, -35.   , -34.875, -34.75 , -34.625, -34.5  ,\n",
       "       -34.375, -34.25 , -34.125, -34.   , -33.875, -33.75 , -33.625,\n",
       "       -33.5  , -33.375, -33.25 , -33.125, -33.   , -32.875, -32.75 ,\n",
       "       -32.625, -32.5  , -32.375, -32.25 , -32.125, -32.   , -31.875,\n",
       "       -31.75 , -31.625, -31.5  , -31.375, -31.25 , -31.125, -31.   ,\n",
       "       -30.875, -30.75 , -30.625, -30.5  , -30.375, -30.25 , -30.125,\n",
       "       -30.   , -29.875, -29.75 , -29.625, -29.5  , -29.375, -29.25 ,\n",
       "       -29.125, -29.   , -28.875, -28.75 , -28.625, -28.5  , -28.375,\n",
       "       -28.25 , -28.125, -28.   , -27.875, -27.75 , -27.625, -27.5  ,\n",
       "       -27.375, -27.25 , -27.125, -27.   , -26.875, -26.75 , -26.625,\n",
       "       -26.5  , -26.375, -26.25 , -26.125, -26.   , -25.875, -25.75 ,\n",
       "       -25.625, -25.5  , -25.375, -25.25 , -25.125, -25.   , -24.875,\n",
       "       -24.75 , -24.625, -24.5  , -24.375, -24.25 , -24.125, -24.   ,\n",
       "       -23.875, -23.75 , -23.625, -23.5  , -23.375, -23.25 , -23.125,\n",
       "       -23.   , -22.875, -22.75 , -22.625, -22.5  , -22.375, -22.25 ,\n",
       "       -22.125, -22.   , -21.875, -21.75 , -21.625, -21.5  , -21.375,\n",
       "       -21.25 , -21.125, -21.   , -20.875, -20.75 , -20.625, -20.5  ,\n",
       "       -20.375, -20.25 , -20.125, -20.   , -19.875, -19.75 , -19.625,\n",
       "       -19.5  , -19.375, -19.25 , -19.125, -19.   , -18.875, -18.75 ,\n",
       "       -18.625, -18.5  , -18.375, -18.25 , -18.125, -18.   , -17.875,\n",
       "       -17.75 , -17.625, -17.5  , -17.375, -17.25 , -17.125, -17.   ,\n",
       "       -16.875, -16.75 , -16.625, -16.5  , -16.375, -16.25 , -16.125,\n",
       "       -16.   , -15.875, -15.75 , -15.625, -15.5  , -15.375, -15.25 ,\n",
       "       -15.125, -15.   , -14.875, -14.75 , -14.625, -14.5  , -14.375,\n",
       "       -14.25 , -14.125, -14.   , -13.875, -13.75 , -13.625, -13.5  ,\n",
       "       -13.375, -13.25 , -13.125, -13.   , -12.875, -12.75 , -12.625,\n",
       "       -12.5  , -12.375, -12.25 , -12.125, -12.   , -11.875, -11.75 ,\n",
       "       -11.625, -11.5  , -11.375, -11.25 , -11.125, -11.   , -10.875,\n",
       "       -10.75 , -10.625, -10.5  , -10.375, -10.25 , -10.125, -10.   ,\n",
       "        -9.875,  -9.75 ,  -9.625,  -9.5  ,  -9.375,  -9.25 ,  -9.125,\n",
       "        -9.   ,  -8.875,  -8.75 ,  -8.625,  -8.5  ,  -8.375,  -8.25 ,\n",
       "        -8.125,  -8.   ,  -7.875,  -7.75 ,  -7.625,  -7.5  ,  -7.375,\n",
       "        -7.25 ,  -7.125,  -7.   ,  -6.875,  -6.75 ,  -6.625,  -6.5  ,\n",
       "        -6.375,  -6.25 ,  -6.125,  -6.   ,  -5.875,  -5.75 ,  -5.625,\n",
       "        -5.5  ,  -5.375,  -5.25 ,  -5.125,  -5.   ,  -4.875,  -4.75 ,\n",
       "        -4.625,  -4.5  ,  -4.375,  -4.25 ,  -4.125,  -4.   ,  -3.875,\n",
       "        -3.75 ,  -3.625,  -3.5  ,  -3.375,  -3.25 ,  -3.125,  -3.   ,\n",
       "        -2.875,  -2.75 ,  -2.625,  -2.5  ,  -2.375,  -2.25 ,  -2.125,\n",
       "        -2.   ,  -1.875,  -1.75 ,  -1.625,  -1.5  ,  -1.375,  -1.25 ,\n",
       "        -1.125,  -1.   ,  -0.875,  -0.75 ,  -0.625,  -0.5  ,  -0.375,\n",
       "        -0.25 ,  -0.125,   0.   ,   0.125,   0.25 ,   0.375,   0.5  ,\n",
       "         0.625,   0.75 ,   0.875,   1.   ,   1.125,   1.25 ,   1.375,\n",
       "         1.5  ,   1.625,   1.75 ,   1.875,   2.   ,   2.125,   2.25 ,\n",
       "         2.375,   2.5  ,   2.625,   2.75 ,   2.875,   3.   ,   3.125,\n",
       "         3.25 ,   3.375,   3.5  ,   3.625,   3.75 ,   3.875,   4.   ,\n",
       "         4.125,   4.25 ,   4.375,   4.5  ,   4.625,   4.75 ,   4.875,\n",
       "         5.   ,   5.125,   5.25 ,   5.375,   5.5  ,   5.625,   5.75 ,\n",
       "         5.875,   6.   ,   6.125,   6.25 ,   6.375,   6.5  ,   6.625,\n",
       "         6.75 ,   6.875,   7.   ,   7.125,   7.25 ,   7.375,   7.5  ,\n",
       "         7.625,   7.75 ,   7.875,   8.   ,   8.125,   8.25 ,   8.375,\n",
       "         8.5  ,   8.625,   8.75 ,   8.875,   9.   ,   9.125,   9.25 ,\n",
       "         9.375,   9.5  ,   9.625,   9.75 ,   9.875,  10.   ,  10.125,\n",
       "        10.25 ,  10.375,  10.5  ,  10.625,  10.75 ,  10.875,  11.   ,\n",
       "        11.125,  11.25 ,  11.375,  11.5  ,  11.625,  11.75 ,  11.875,\n",
       "        12.   ,  12.125,  12.25 ,  12.375,  12.5  ,  12.625,  12.75 ,\n",
       "        12.875,  13.   ,  13.125,  13.25 ,  13.375,  13.5  ,  13.625,\n",
       "        13.75 ,  13.875,  14.   ,  14.125,  14.25 ,  14.375,  14.5  ,\n",
       "        14.625,  14.75 ,  14.875,  15.   ,  15.125,  15.25 ,  15.375,\n",
       "        15.5  ,  15.625,  15.75 ,  15.875,  16.   ,  16.125,  16.25 ,\n",
       "        16.375,  16.5  ,  16.625,  16.75 ,  16.875,  17.   ,  17.125,\n",
       "        17.25 ,  17.375,  17.5  ,  17.625,  17.75 ,  17.875,  18.   ,\n",
       "        18.125,  18.25 ,  18.375,  18.5  ,  18.625,  18.75 ,  18.875,\n",
       "        19.   ,  19.125,  19.25 ,  19.375,  19.5  ,  19.625,  19.75 ,\n",
       "        19.875,  20.   ,  20.125,  20.25 ,  20.375,  20.5  ,  20.625,\n",
       "        20.75 ,  20.875,  21.   ,  21.125,  21.25 ,  21.375,  21.5  ,\n",
       "        21.625,  21.75 ,  21.875,  22.   ,  22.125,  22.25 ,  22.375,\n",
       "        22.5  ,  22.625,  22.75 ,  22.875,  23.   ,  23.125,  23.25 ,\n",
       "        23.375,  23.5  ,  23.625,  23.75 ,  23.875,  24.   ,  24.125,\n",
       "        24.25 ,  24.375,  24.5  ,  24.625,  24.75 ,  24.875,  25.   ,\n",
       "        25.125,  25.25 ,  25.375,  25.5  ,  25.625,  25.75 ,  25.875,\n",
       "        26.   ,  26.125,  26.25 ,  26.375,  26.5  ,  26.625,  26.75 ,\n",
       "        26.875,  27.   ,  27.125,  27.25 ,  27.375,  27.5  ,  27.625,\n",
       "        27.75 ,  27.875,  28.   ,  28.125,  28.25 ,  28.375,  28.5  ,\n",
       "        28.625,  28.75 ,  28.875,  29.   ,  29.125,  29.25 ,  29.375,\n",
       "        29.5  ,  29.625,  29.75 ,  29.875,  30.   ,  30.125,  30.25 ,\n",
       "        30.375,  30.5  ,  30.625,  30.75 ,  30.875,  31.   ,  31.125,\n",
       "        31.25 ,  31.375,  31.5  ,  31.625,  31.75 ,  31.875,  32.   ,\n",
       "        32.125,  32.25 ,  32.375,  32.5  ,  32.625,  32.75 ,  32.875,\n",
       "        33.   ,  33.125,  33.25 ,  33.375,  33.5  ,  33.625,  33.75 ,\n",
       "        33.875,  34.   ,  34.125,  34.25 ,  34.375,  34.5  ,  34.625,\n",
       "        34.75 ,  34.875,  35.   ,  35.125,  35.25 ,  35.375,  35.5  ,\n",
       "        35.625,  35.75 ,  35.875,  36.   ,  36.125,  36.25 ,  36.375,\n",
       "        36.5  ,  36.625,  36.75 ,  36.875,  37.   ,  37.125,  37.25 ,\n",
       "        37.375,  37.5  ,  37.625,  37.75 ,  37.875,  38.   ,  38.125,\n",
       "        38.25 ,  38.375,  38.5  ,  38.625,  38.75 ,  38.875,  39.   ,\n",
       "        39.125,  39.25 ,  39.375,  39.5  ,  39.625,  39.75 ,  39.875,\n",
       "        40.   ,  40.125,  40.25 ,  40.375,  40.5  ,  40.625,  40.75 ,\n",
       "        40.875,  41.   ,  41.125,  41.25 ,  41.375,  41.5  ,  41.625,\n",
       "        41.75 ,  41.875,  42.   ,  42.125,  42.25 ,  42.375,  42.5  ,\n",
       "        42.625,  42.75 ,  42.875,  43.   ,  43.125,  43.25 ,  43.375,\n",
       "        43.5  ,  43.625,  43.75 ,  43.875,  44.   ])"
      ]
     },
     "execution_count": 652,
     "metadata": {},
     "output_type": "execute_result"
    }
   ],
   "source": [
    "xedges"
   ]
  },
  {
   "cell_type": "code",
   "execution_count": 10,
   "metadata": {},
   "outputs": [
    {
     "data": {
      "text/plain": [
       "array([[-43.9375, -43.9375],\n",
       "       [-43.9375, -43.8125],\n",
       "       [-43.9375, -43.6875],\n",
       "       ...,\n",
       "       [ 43.9375,  43.6875],\n",
       "       [ 43.9375,  43.8125],\n",
       "       [ 43.9375,  43.9375]])"
      ]
     },
     "execution_count": 10,
     "metadata": {},
     "output_type": "execute_result"
    }
   ],
   "source": [
    "rayverts"
   ]
  },
  {
   "cell_type": "code",
   "execution_count": null,
   "metadata": {},
   "outputs": [],
   "source": []
  },
  {
   "cell_type": "code",
   "execution_count": null,
   "metadata": {},
   "outputs": [],
   "source": []
  }
 ],
 "metadata": {
  "kernelspec": {
   "display_name": "Python 3",
   "language": "python",
   "name": "python3"
  },
  "language_info": {
   "codemirror_mode": {
    "name": "ipython",
    "version": 3
   },
   "file_extension": ".py",
   "mimetype": "text/x-python",
   "name": "python",
   "nbconvert_exporter": "python",
   "pygments_lexer": "ipython3",
   "version": "3.8.1"
  }
 },
 "nbformat": 4,
 "nbformat_minor": 4
}
